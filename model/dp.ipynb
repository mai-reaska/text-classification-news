{
 "cells": [
  {
   "cell_type": "code",
   "execution_count": 14,
   "metadata": {},
   "outputs": [],
   "source": [
    "import pandas as pd"
   ]
  },
  {
   "cell_type": "code",
   "execution_count": 13,
   "metadata": {},
   "outputs": [],
   "source": [
    "from sklearn.feature_extraction.text import CountVectorizer\n",
    "from sklearn.feature_extraction.text import TfidfTransformer\n",
    "from sklearn.feature_extraction.text import TfidfVectorizer"
   ]
  },
  {
   "cell_type": "code",
   "execution_count": 10,
   "metadata": {},
   "outputs": [],
   "source": [
    "head = ['b', 't', 'e', 'm']"
   ]
  },
  {
   "cell_type": "code",
   "execution_count": null,
   "metadata": {},
   "outputs": [],
   "source": [
    "dtaset = pd.read_csv('./data/2pageSessions.csv', header=head, encoding='utf-8')"
   ]
  },
  {
   "cell_type": "code",
   "execution_count": 16,
   "metadata": {},
   "outputs": [
    {
     "name": "stderr",
     "output_type": "stream",
     "text": [
      "C:\\Users\\ite-101\\AppData\\Local\\Temp\\ipykernel_18068\\2346891037.py:1: DtypeWarning: Columns (0,7) have mixed types. Specify dtype option on import or set low_memory=False.\n",
      "  df = pd.read_csv('../data/uci_news_aggregator.csv', names=head)\n"
     ]
    }
   ],
   "source": [
    "df = pd.read_csv('../data/uci_news_aggregator.csv', names=head)\n"
   ]
  },
  {
   "cell_type": "code",
   "execution_count": 17,
   "metadata": {},
   "outputs": [
    {
     "data": {
      "text/html": [
       "<div>\n",
       "<style scoped>\n",
       "    .dataframe tbody tr th:only-of-type {\n",
       "        vertical-align: middle;\n",
       "    }\n",
       "\n",
       "    .dataframe tbody tr th {\n",
       "        vertical-align: top;\n",
       "    }\n",
       "\n",
       "    .dataframe thead th {\n",
       "        text-align: right;\n",
       "    }\n",
       "</style>\n",
       "<table border=\"1\" class=\"dataframe\">\n",
       "  <thead>\n",
       "    <tr style=\"text-align: right;\">\n",
       "      <th></th>\n",
       "      <th></th>\n",
       "      <th></th>\n",
       "      <th></th>\n",
       "      <th>b</th>\n",
       "      <th>t</th>\n",
       "      <th>e</th>\n",
       "      <th>m</th>\n",
       "    </tr>\n",
       "  </thead>\n",
       "  <tbody>\n",
       "    <tr>\n",
       "      <th>ID</th>\n",
       "      <th>TITLE</th>\n",
       "      <th>URL</th>\n",
       "      <th>PUBLISHER</th>\n",
       "      <td>CATEGORY</td>\n",
       "      <td>STORY</td>\n",
       "      <td>HOSTNAME</td>\n",
       "      <td>TIMESTAMP</td>\n",
       "    </tr>\n",
       "    <tr>\n",
       "      <th>1</th>\n",
       "      <th>Fed official says weak data caused by weather, should not slow taper</th>\n",
       "      <th>http://www.latimes.com/business/money/la-fi-mo-federal-reserve-plosser-stimulus-economy-20140310,0,1312750.story\\?track=rss</th>\n",
       "      <th>Los Angeles Times</th>\n",
       "      <td>b</td>\n",
       "      <td>ddUyU0VZz0BRneMioxUPQVP6sIxvM</td>\n",
       "      <td>www.latimes.com</td>\n",
       "      <td>1394470370698</td>\n",
       "    </tr>\n",
       "    <tr>\n",
       "      <th>2</th>\n",
       "      <th>Fed's Charles Plosser sees high bar for change in pace of tapering</th>\n",
       "      <th>http://www.livemint.com/Politics/H2EvwJSK2VE6OF7iK1g3PP/Feds-Charles-Plosser-sees-high-bar-for-change-in-pace-of-ta.html</th>\n",
       "      <th>Livemint</th>\n",
       "      <td>b</td>\n",
       "      <td>ddUyU0VZz0BRneMioxUPQVP6sIxvM</td>\n",
       "      <td>www.livemint.com</td>\n",
       "      <td>1394470371207</td>\n",
       "    </tr>\n",
       "    <tr>\n",
       "      <th>3</th>\n",
       "      <th>US open: Stocks fall after Fed official hints at accelerated tapering</th>\n",
       "      <th>http://www.ifamagazine.com/news/us-open-stocks-fall-after-fed-official-hints-at-accelerated-tapering-294436</th>\n",
       "      <th>IFA Magazine</th>\n",
       "      <td>b</td>\n",
       "      <td>ddUyU0VZz0BRneMioxUPQVP6sIxvM</td>\n",
       "      <td>www.ifamagazine.com</td>\n",
       "      <td>1394470371550</td>\n",
       "    </tr>\n",
       "    <tr>\n",
       "      <th>4</th>\n",
       "      <th>Fed risks falling 'behind the curve', Charles Plosser says</th>\n",
       "      <th>http://www.ifamagazine.com/news/fed-risks-falling-behind-the-curve-charles-plosser-says-294430</th>\n",
       "      <th>IFA Magazine</th>\n",
       "      <td>b</td>\n",
       "      <td>ddUyU0VZz0BRneMioxUPQVP6sIxvM</td>\n",
       "      <td>www.ifamagazine.com</td>\n",
       "      <td>1394470371793</td>\n",
       "    </tr>\n",
       "    <tr>\n",
       "      <th>...</th>\n",
       "      <th>...</th>\n",
       "      <th>...</th>\n",
       "      <th>...</th>\n",
       "      <td>...</td>\n",
       "      <td>...</td>\n",
       "      <td>...</td>\n",
       "      <td>...</td>\n",
       "    </tr>\n",
       "    <tr>\n",
       "      <th>422933</th>\n",
       "      <th>Surgeons to remove 4-year-old's rib to rebuild damaged throat - CBS 3  ...</th>\n",
       "      <th>http://www.cbs3springfield.com/story/26378648/surgeons-removed-4-year-olds-rib-to-rebuild-his-damaged-throat</th>\n",
       "      <th>WSHM-TV</th>\n",
       "      <td>m</td>\n",
       "      <td>dpcLMoJD69UYMXMxaoEFnWql9YjQM</td>\n",
       "      <td>www.cbs3springfield.com</td>\n",
       "      <td>1409229190251</td>\n",
       "    </tr>\n",
       "    <tr>\n",
       "      <th>422934</th>\n",
       "      <th>Boy to have surgery on esophagus after battery burns hole in throat</th>\n",
       "      <th>http://www.wlwt.com/news/boy-to-have-surgery-on-esophagus-after-battery-burns-hole-in-throat/27741396</th>\n",
       "      <th>WLWT Cincinnati</th>\n",
       "      <td>m</td>\n",
       "      <td>dpcLMoJD69UYMXMxaoEFnWql9YjQM</td>\n",
       "      <td>www.wlwt.com</td>\n",
       "      <td>1409229190508</td>\n",
       "    </tr>\n",
       "    <tr>\n",
       "      <th>422935</th>\n",
       "      <th>Child who swallowed battery to have reconstructive surgery at Cincinnati  ...</th>\n",
       "      <th>http://www.newsnet5.com/news/local-news/child-who-swallowed-battery-to-have-reconstructive-surgery-at-cincinnati-childrens-hospital</th>\n",
       "      <th>NewsNet5.com</th>\n",
       "      <td>m</td>\n",
       "      <td>dpcLMoJD69UYMXMxaoEFnWql9YjQM</td>\n",
       "      <td>www.newsnet5.com</td>\n",
       "      <td>1409229190771</td>\n",
       "    </tr>\n",
       "    <tr>\n",
       "      <th>422936</th>\n",
       "      <th>Phoenix boy undergoes surgery to repair throat damage - WFSB 3 Connecticut</th>\n",
       "      <th>http://www.wfsb.com/story/26368078/phoenix-boy-undergoes-surgery-to-repair-throat-damage-from-button-battery</th>\n",
       "      <th>WFSB</th>\n",
       "      <td>m</td>\n",
       "      <td>dpcLMoJD69UYMXMxaoEFnWql9YjQM</td>\n",
       "      <td>www.wfsb.com</td>\n",
       "      <td>1409229191071</td>\n",
       "    </tr>\n",
       "    <tr>\n",
       "      <th>422937</th>\n",
       "      <th>Phoenix boy undergoes surgery to repair throat damage - CBS 3 Springfield  ...</th>\n",
       "      <th>http://www.cbs3springfield.com/story/26368078/phoenix-boy-undergoes-surgery-to-repair-throat-damage-from-button-battery</th>\n",
       "      <th>WSHM-TV</th>\n",
       "      <td>m</td>\n",
       "      <td>dpcLMoJD69UYMXMxaoEFnWql9YjQM</td>\n",
       "      <td>www.cbs3springfield.com</td>\n",
       "      <td>1409229191565</td>\n",
       "    </tr>\n",
       "  </tbody>\n",
       "</table>\n",
       "<p>422420 rows × 4 columns</p>\n",
       "</div>"
      ],
      "text/plain": [
       "                                                                                                                                       b  \\\n",
       "ID     TITLE                                              URL                                                PUBLISHER          CATEGORY   \n",
       "1      Fed official says weak data caused by weather, ... http://www.latimes.com/business/money/la-fi-mo-... Los Angeles Times         b   \n",
       "2      Fed's Charles Plosser sees high bar for change ... http://www.livemint.com/Politics/H2EvwJSK2VE6OF... Livemint                  b   \n",
       "3      US open: Stocks fall after Fed official hints a... http://www.ifamagazine.com/news/us-open-stocks-... IFA Magazine              b   \n",
       "4      Fed risks falling 'behind the curve', Charles P... http://www.ifamagazine.com/news/fed-risks-falli... IFA Magazine              b   \n",
       "...                                                                                                                                  ...   \n",
       "422933 Surgeons to remove 4-year-old's rib to rebuild ... http://www.cbs3springfield.com/story/26378648/s... WSHM-TV                   m   \n",
       "422934 Boy to have surgery on esophagus after battery ... http://www.wlwt.com/news/boy-to-have-surgery-on... WLWT Cincinnati           m   \n",
       "422935 Child who swallowed battery to have reconstruct... http://www.newsnet5.com/news/local-news/child-w... NewsNet5.com              m   \n",
       "422936 Phoenix boy undergoes surgery to repair throat ... http://www.wfsb.com/story/26368078/phoenix-boy-... WFSB                      m   \n",
       "422937 Phoenix boy undergoes surgery to repair throat ... http://www.cbs3springfield.com/story/26368078/p... WSHM-TV                   m   \n",
       "\n",
       "                                                                                                                                                            t  \\\n",
       "ID     TITLE                                              URL                                                PUBLISHER                                  STORY   \n",
       "1      Fed official says weak data caused by weather, ... http://www.latimes.com/business/money/la-fi-mo-... Los Angeles Times  ddUyU0VZz0BRneMioxUPQVP6sIxvM   \n",
       "2      Fed's Charles Plosser sees high bar for change ... http://www.livemint.com/Politics/H2EvwJSK2VE6OF... Livemint           ddUyU0VZz0BRneMioxUPQVP6sIxvM   \n",
       "3      US open: Stocks fall after Fed official hints a... http://www.ifamagazine.com/news/us-open-stocks-... IFA Magazine       ddUyU0VZz0BRneMioxUPQVP6sIxvM   \n",
       "4      Fed risks falling 'behind the curve', Charles P... http://www.ifamagazine.com/news/fed-risks-falli... IFA Magazine       ddUyU0VZz0BRneMioxUPQVP6sIxvM   \n",
       "...                                                                                                                                                       ...   \n",
       "422933 Surgeons to remove 4-year-old's rib to rebuild ... http://www.cbs3springfield.com/story/26378648/s... WSHM-TV            dpcLMoJD69UYMXMxaoEFnWql9YjQM   \n",
       "422934 Boy to have surgery on esophagus after battery ... http://www.wlwt.com/news/boy-to-have-surgery-on... WLWT Cincinnati    dpcLMoJD69UYMXMxaoEFnWql9YjQM   \n",
       "422935 Child who swallowed battery to have reconstruct... http://www.newsnet5.com/news/local-news/child-w... NewsNet5.com       dpcLMoJD69UYMXMxaoEFnWql9YjQM   \n",
       "422936 Phoenix boy undergoes surgery to repair throat ... http://www.wfsb.com/story/26368078/phoenix-boy-... WFSB               dpcLMoJD69UYMXMxaoEFnWql9YjQM   \n",
       "422937 Phoenix boy undergoes surgery to repair throat ... http://www.cbs3springfield.com/story/26368078/p... WSHM-TV            dpcLMoJD69UYMXMxaoEFnWql9YjQM   \n",
       "\n",
       "                                                                                                                                                      e  \\\n",
       "ID     TITLE                                              URL                                                PUBLISHER                         HOSTNAME   \n",
       "1      Fed official says weak data caused by weather, ... http://www.latimes.com/business/money/la-fi-mo-... Los Angeles Times          www.latimes.com   \n",
       "2      Fed's Charles Plosser sees high bar for change ... http://www.livemint.com/Politics/H2EvwJSK2VE6OF... Livemint                  www.livemint.com   \n",
       "3      US open: Stocks fall after Fed official hints a... http://www.ifamagazine.com/news/us-open-stocks-... IFA Magazine           www.ifamagazine.com   \n",
       "4      Fed risks falling 'behind the curve', Charles P... http://www.ifamagazine.com/news/fed-risks-falli... IFA Magazine           www.ifamagazine.com   \n",
       "...                                                                                                                                                 ...   \n",
       "422933 Surgeons to remove 4-year-old's rib to rebuild ... http://www.cbs3springfield.com/story/26378648/s... WSHM-TV            www.cbs3springfield.com   \n",
       "422934 Boy to have surgery on esophagus after battery ... http://www.wlwt.com/news/boy-to-have-surgery-on... WLWT Cincinnati               www.wlwt.com   \n",
       "422935 Child who swallowed battery to have reconstruct... http://www.newsnet5.com/news/local-news/child-w... NewsNet5.com              www.newsnet5.com   \n",
       "422936 Phoenix boy undergoes surgery to repair throat ... http://www.wfsb.com/story/26368078/phoenix-boy-... WFSB                          www.wfsb.com   \n",
       "422937 Phoenix boy undergoes surgery to repair throat ... http://www.cbs3springfield.com/story/26368078/p... WSHM-TV            www.cbs3springfield.com   \n",
       "\n",
       "                                                                                                                                            m  \n",
       "ID     TITLE                                              URL                                                PUBLISHER              TIMESTAMP  \n",
       "1      Fed official says weak data caused by weather, ... http://www.latimes.com/business/money/la-fi-mo-... Los Angeles Times  1394470370698  \n",
       "2      Fed's Charles Plosser sees high bar for change ... http://www.livemint.com/Politics/H2EvwJSK2VE6OF... Livemint           1394470371207  \n",
       "3      US open: Stocks fall after Fed official hints a... http://www.ifamagazine.com/news/us-open-stocks-... IFA Magazine       1394470371550  \n",
       "4      Fed risks falling 'behind the curve', Charles P... http://www.ifamagazine.com/news/fed-risks-falli... IFA Magazine       1394470371793  \n",
       "...                                                                                                                                       ...  \n",
       "422933 Surgeons to remove 4-year-old's rib to rebuild ... http://www.cbs3springfield.com/story/26378648/s... WSHM-TV            1409229190251  \n",
       "422934 Boy to have surgery on esophagus after battery ... http://www.wlwt.com/news/boy-to-have-surgery-on... WLWT Cincinnati    1409229190508  \n",
       "422935 Child who swallowed battery to have reconstruct... http://www.newsnet5.com/news/local-news/child-w... NewsNet5.com       1409229190771  \n",
       "422936 Phoenix boy undergoes surgery to repair throat ... http://www.wfsb.com/story/26368078/phoenix-boy-... WFSB               1409229191071  \n",
       "422937 Phoenix boy undergoes surgery to repair throat ... http://www.cbs3springfield.com/story/26368078/p... WSHM-TV            1409229191565  \n",
       "\n",
       "[422420 rows x 4 columns]"
      ]
     },
     "execution_count": 17,
     "metadata": {},
     "output_type": "execute_result"
    }
   ],
   "source": [
    "df"
   ]
  },
  {
   "cell_type": "code",
   "execution_count": 25,
   "metadata": {},
   "outputs": [
    {
     "data": {
      "text/plain": [
       "422420"
      ]
     },
     "execution_count": 25,
     "metadata": {},
     "output_type": "execute_result"
    }
   ],
   "source": [
    "df['b'].count()"
   ]
  },
  {
   "cell_type": "code",
   "execution_count": 18,
   "metadata": {},
   "outputs": [
    {
     "ename": "TypeError",
     "evalue": "'builtin_function_or_method' object is not subscriptable",
     "output_type": "error",
     "traceback": [
      "\u001b[1;31m---------------------------------------------------------------------------\u001b[0m",
      "\u001b[1;31mTypeError\u001b[0m                                 Traceback (most recent call last)",
      "Cell \u001b[1;32mIn[18], line 1\u001b[0m\n\u001b[1;32m----> 1\u001b[0m ds \u001b[38;5;241m=\u001b[39m \u001b[38;5;28;43mdir\u001b[39;49m\u001b[43m[\u001b[49m\u001b[43m[\u001b[49m\u001b[38;5;124;43m'\u001b[39;49m\u001b[38;5;124;43mTITLE\u001b[39;49m\u001b[38;5;124;43m'\u001b[39;49m\u001b[43m,\u001b[49m\u001b[38;5;124;43m'\u001b[39;49m\u001b[38;5;124;43mCATEGORY\u001b[39;49m\u001b[38;5;124;43m'\u001b[39;49m\u001b[43m]\u001b[49m\u001b[43m]\u001b[49m\n",
      "\u001b[1;31mTypeError\u001b[0m: 'builtin_function_or_method' object is not subscriptable"
     ]
    }
   ],
   "source": [
    "ds = dir[['TITLE','CATEGORY']]"
   ]
  }
 ],
 "metadata": {
  "kernelspec": {
   "display_name": "venv",
   "language": "python",
   "name": "python3"
  },
  "language_info": {
   "codemirror_mode": {
    "name": "ipython",
    "version": 3
   },
   "file_extension": ".py",
   "mimetype": "text/x-python",
   "name": "python",
   "nbconvert_exporter": "python",
   "pygments_lexer": "ipython3",
   "version": "3.11.4"
  }
 },
 "nbformat": 4,
 "nbformat_minor": 2
}
